{
 "cells": [
  {
   "cell_type": "code",
   "execution_count": 2,
   "metadata": {},
   "outputs": [
    {
     "ename": "TypeError",
     "evalue": "'Var' object is not subscriptable",
     "output_type": "error",
     "traceback": [
      "\u001b[0;31m---------------------------------------------------------------------------\u001b[0m",
      "\u001b[0;31mTypeError\u001b[0m                                 Traceback (most recent call last)",
      "\u001b[1;32m/Users/hamed/Documents/pyjobs/DEA/Network_DEA/test_ndea.ipynb Cell 1\u001b[0m line \u001b[0;36m3\n\u001b[1;32m     <a href='vscode-notebook-cell:/Users/hamed/Documents/pyjobs/DEA/Network_DEA/test_ndea.ipynb#W0sZmlsZQ%3D%3D?line=29'>30</a>\u001b[0m u3 \u001b[39m=\u001b[39m model\u001b[39m.\u001b[39maddVars(proc3_outputs\u001b[39m.\u001b[39mkeys(), lb\u001b[39m=\u001b[39m\u001b[39m0\u001b[39m, name\u001b[39m=\u001b[39m\u001b[39m\"\u001b[39m\u001b[39mu3\u001b[39m\u001b[39m\"\u001b[39m)\n\u001b[1;32m     <a href='vscode-notebook-cell:/Users/hamed/Documents/pyjobs/DEA/Network_DEA/test_ndea.ipynb#W0sZmlsZQ%3D%3D?line=32'>33</a>\u001b[0m \u001b[39mfor\u001b[39;00m DMU \u001b[39min\u001b[39;00m DMUs:\n\u001b[0;32m---> <a href='vscode-notebook-cell:/Users/hamed/Documents/pyjobs/DEA/Network_DEA/test_ndea.ipynb#W0sZmlsZQ%3D%3D?line=34'>35</a>\u001b[0m   model\u001b[39m.\u001b[39msetObjective(u3[\u001b[39m\"\u001b[39;49m\u001b[39myO\u001b[39;49m\u001b[39m\"\u001b[39;49m][DMU], GRB\u001b[39m.\u001b[39mMAXIMIZE)\n\u001b[1;32m     <a href='vscode-notebook-cell:/Users/hamed/Documents/pyjobs/DEA/Network_DEA/test_ndea.ipynb#W0sZmlsZQ%3D%3D?line=36'>37</a>\u001b[0m \u001b[39m#   model.addConstr(v[\"x1\"]*inputs[\"x1\"][DMU] + v[\"x2\"]*inputs[\"x2\"][DMU] == 1)\u001b[39;00m\n\u001b[1;32m     <a href='vscode-notebook-cell:/Users/hamed/Documents/pyjobs/DEA/Network_DEA/test_ndea.ipynb#W0sZmlsZQ%3D%3D?line=37'>38</a>\u001b[0m   \n\u001b[1;32m     <a href='vscode-notebook-cell:/Users/hamed/Documents/pyjobs/DEA/Network_DEA/test_ndea.ipynb#W0sZmlsZQ%3D%3D?line=38'>39</a>\u001b[0m \u001b[39m#   model.addConstr(u1[\"yO\"][DMU] <= \u001b[39;00m\n\u001b[0;32m   (...)\u001b[0m\n\u001b[1;32m     <a href='vscode-notebook-cell:/Users/hamed/Documents/pyjobs/DEA/Network_DEA/test_ndea.ipynb#W0sZmlsZQ%3D%3D?line=64'>65</a>\u001b[0m \u001b[39m#                            v[\"x1\"].X*proc3_inputs[\"x1\"][DMU] + v[\"x2\"].X*proc3_inputs[\"x2\"][DMU])\u001b[39;00m\n\u001b[1;32m     <a href='vscode-notebook-cell:/Users/hamed/Documents/pyjobs/DEA/Network_DEA/test_ndea.ipynb#W0sZmlsZQ%3D%3D?line=65'>66</a>\u001b[0m \u001b[39m#   print(f\"Stage 2 efficiency: {stage2}\")\u001b[39;00m\n",
      "\u001b[0;31mTypeError\u001b[0m: 'Var' object is not subscriptable"
     ]
    }
   ],
   "source": [
    "from gurobipy import *\n",
    "\n",
    "DMUs = [\"A\", \"B\", \"C\", \"D\", \"E\"]\n",
    "\n",
    "inputs = {\"x1\": [11, 7, 11, 14, 14], \n",
    "          \"x2\": [14, 7, 14, 14, 15]}\n",
    "          \n",
    "proc1_outputs = {\"yO\": [2, 1, 1, 2, 3],\n",
    "                 \"yI\": [2, 1, 1, 1, 1]}\n",
    "                 \n",
    "proc1_inputs = {\"x1\": [3, 2, 3, 4, 5],\n",
    "                \"x2\": [5, 3, 4, 6, 6]}\n",
    "                \n",
    "proc2_outputs = {\"yO\": [2, 1, 1, 3, 2], \n",
    "                 \"yI\": [1, 1, 1, 1, 2]}\n",
    "                 \n",
    "proc2_inputs = {\"x1\": [4, 2, 5, 5, 5],\n",
    "                \"x2\": [3, 1, 3, 5, 4]}\n",
    "                \n",
    "proc3_outputs = {\"yO\": [1, 1, 2, 1, 3]}\n",
    "\n",
    "proc3_inputs = {\"x1\": [4, 3, 3, 5, 4],\n",
    "                \"x2\": [6, 3, 7, 3, 5]}\n",
    "                \n",
    "model = Model(\"DEA\")\n",
    "\n",
    "v = model.addVars(inputs.keys(), lb=0, name=\"v\") \n",
    "u1 = model.addVars(proc1_outputs.keys(), lb=0, name=\"u1\")\n",
    "u2 = model.addVars(proc2_outputs.keys(), lb=0, name=\"u2\") \n",
    "u3 = model.addVars(proc3_outputs.keys(), lb=0, name=\"u3\")\n",
    "\n",
    "\n",
    "for DMU in DMUs:\n",
    "\n",
    "  model.setObjective(u3[\"yO\"][DMU], GRB.MAXIMIZE)\n",
    "  \n",
    "#   model.addConstr(v[\"x1\"]*inputs[\"x1\"][DMU] + v[\"x2\"]*inputs[\"x2\"][DMU] == 1)\n",
    "  \n",
    "#   model.addConstr(u1[\"yO\"][DMU] <= \n",
    "#                   v[\"x1\"]*proc1_inputs[\"x1\"][DMU] + v[\"x2\"]*proc1_inputs[\"x2\"][DMU])\n",
    "                  \n",
    "#   model.addConstr(u2[\"yO\"][DMU] <= \n",
    "#                   v[\"x1\"]*proc2_inputs[\"x1\"][DMU] + v[\"x2\"]*proc2_inputs[\"x2\"][DMU])  \n",
    "\n",
    "#   model.addConstr(u3[\"yO\"][DMU] <= \n",
    "#                   v[\"x1\"]*proc3_inputs[\"x1\"][DMU] + v[\"x2\"]*proc3_inputs[\"x2\"][DMU] +\n",
    "#                   u1[\"yI\"][DMU] + u2[\"yI\"][DMU])\n",
    "\n",
    "#   model.optimize()\n",
    "  \n",
    "#   # Print efficiency score\n",
    "#   print(f\"Efficiency of {DMU}: {model.ObjVal}\")\n",
    "\n",
    "#   # Print process efficiencies\n",
    "#   print(f\"Proc 1 efficiency: {u1['yO'][DMU].X / (v['x1'].X*proc1_inputs['x1'][DMU] + v['x2'].X*proc1_inputs['x2'][DMU])}\")\n",
    "#   print(f\"Proc 2 efficiency: {u2['yO'][DMU].X / (v['x1'].X*proc2_inputs['x1'][DMU] + v['x2'].X*proc2_inputs['x2'][DMU])}\")\n",
    "#   print(f\"Proc 3 efficiency: {u3['yO'][DMU].X / (v['x1'].X*proc3_inputs['x1'][DMU] + v['x2'].X*proc3_inputs['x2'][DMU] + u1['yI'][DMU].X + u2['yI'][DMU].X)}\")\n",
    "\n",
    "#   # Print stage efficiencies\n",
    "#   stage1 = (u1[\"yO\"][DMU].X + u2[\"yO\"][DMU].X + \n",
    "#             v[\"x1\"].X*proc3_inputs[\"x1\"][DMU] + v[\"x2\"].X*proc3_inputs[\"x2\"][DMU]) / (v[\"x1\"].X*inputs[\"x1\"][DMU] + v[\"x2\"].X*inputs[\"x2\"][DMU])\n",
    "#   print(f\"Stage 1 efficiency: {stage1}\")\n",
    "  \n",
    "#   stage2 = model.ObjVal / (u1[\"yO\"][DMU].X + u2[\"yO\"][DMU].X + \n",
    "#                            v[\"x1\"].X*proc3_inputs[\"x1\"][DMU] + v[\"x2\"].X*proc3_inputs[\"x2\"][DMU])\n",
    "#   print(f\"Stage 2 efficiency: {stage2}\")"
   ]
  },
  {
   "cell_type": "code",
   "execution_count": 11,
   "metadata": {},
   "outputs": [
    {
     "data": {
      "text/plain": [
       "<gurobi.Var *Awaiting Model Update*>"
      ]
     },
     "execution_count": 11,
     "metadata": {},
     "output_type": "execute_result"
    }
   ],
   "source": [
    "u3['yO']"
   ]
  },
  {
   "cell_type": "code",
   "execution_count": null,
   "metadata": {},
   "outputs": [],
   "source": []
  }
 ],
 "metadata": {
  "kernelspec": {
   "display_name": ".venv",
   "language": "python",
   "name": "python3"
  },
  "language_info": {
   "codemirror_mode": {
    "name": "ipython",
    "version": 3
   },
   "file_extension": ".py",
   "mimetype": "text/x-python",
   "name": "python",
   "nbconvert_exporter": "python",
   "pygments_lexer": "ipython3",
   "version": "3.11.6"
  }
 },
 "nbformat": 4,
 "nbformat_minor": 2
}
